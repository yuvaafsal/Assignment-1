{
 "cells": [
  {
   "cell_type": "markdown",
   "id": "7fb039fc",
   "metadata": {},
   "source": [
    "# ASSIGNMENT 1"
   ]
  },
  {
   "cell_type": "markdown",
   "id": "c3c72215",
   "metadata": {},
   "source": [
    "1. In the below elements which of them are values or an expression? eg:- values can be integer or string and expressions will be mathematical operators.\n",
    "*  expression\n",
    "'hello' value\n",
    " -87.8  value\n",
    "-       expression\n",
    "/       expression\n",
    "+\t    expression\n",
    "6       value\n"
   ]
  },
  {
   "cell_type": "markdown",
   "id": "19f6cc55",
   "metadata": {},
   "source": [
    "2. What is the difference between string and variable?\n",
    "string is a value representing a text and variable is a name which can take any value.\n",
    "example:"
   ]
  },
  {
   "cell_type": "code",
   "execution_count": 1,
   "id": "61c9736c",
   "metadata": {},
   "outputs": [
    {
     "data": {
      "text/plain": [
       "str"
      ]
     },
     "execution_count": 1,
     "metadata": {},
     "output_type": "execute_result"
    }
   ],
   "source": [
    "# 's' is a value and \"this is my first assignment in python\" is a string.\n",
    "s = \"this is my first assignment in python\"\n",
    "type(s)"
   ]
  },
  {
   "cell_type": "markdown",
   "id": "6d2289d2",
   "metadata": {},
   "source": [
    "3. Describe three different data types.\n",
    "a) int\n",
    "   integer values automatically take as int data type. eg. a = 10\n",
    "b) float\n",
    "floating point values automatically take as float data type.  eg. a=45.89\n",
    "c) string\n",
    "   text values take as string data type. eg. a ='this is my python assignment' or \" this is my first assignment\"\n",
    "d) boolean\n",
    "   True or False values take as boolean datatype. True means 1 and False means 0. eg: a = True\n",
    " e) Complex\n",
    "   complex numbers take as complex data type. eg: a = 5 + 7j\n",
    " f) list \n",
    "  list represents collection of same or different objects it can be int, float, boolean, complex etc. list is similar to an array.\n",
    "  eg: l = [1,5,6,9.78,True,5+8j]\n",
    "  g) tuple\n",
    "  tuple also represents collection of objects like int, float etc. similar to list but tuple elements are immutable. ( cannot be modified )\n",
    "  eg: t= (1,3,True,8.90)\n",
    "  h) set\n",
    "  set represents collection of non repeting elements. eg: s= {1,2,5,6,8}\n",
    "  i) disctionary\n",
    "  dictionary represents a collection of elements in key : value pair format.\n",
    "  eg: d = {\"key1\" : \"value1\", \"key2\":\"value2\"}\n",
    "  "
   ]
  },
  {
   "cell_type": "markdown",
   "id": "ff53c6ce",
   "metadata": {},
   "source": [
    "4. What is an expression made up of? What do all expressions do?\n",
    "expressions made up of values ( 2,3, etc) and operators (+,* etc) and variables. After evaluating an expression we get a final value.\n",
    "example"
   ]
  },
  {
   "cell_type": "code",
   "execution_count": 24,
   "id": "f62e188f",
   "metadata": {},
   "outputs": [
    {
     "data": {
      "text/plain": [
       "8"
      ]
     },
     "execution_count": 24,
     "metadata": {},
     "output_type": "execute_result"
    }
   ],
   "source": [
    "a = 10 + 5 -7 \n",
    "a"
   ]
  },
  {
   "cell_type": "markdown",
   "id": "8405c8e5",
   "metadata": {},
   "source": [
    "5. This assignment statements, like spam = 10. What is the difference between an\n",
    "expression and a statement?\n",
    "Expression returns a value and statement doesn't return. here spam = 10 is an assignment statement in which the value 10 is assigned in the variable called 'spam'"
   ]
  },
  {
   "cell_type": "markdown",
   "id": "e86c17e4",
   "metadata": {},
   "source": [
    "6. After running the following code, what does the variable bacon contain?\n",
    "bacon = 22\n",
    "bacon + 1\n",
    "bacon contains 22.\n"
   ]
  },
  {
   "cell_type": "code",
   "execution_count": 27,
   "id": "e1f46349",
   "metadata": {},
   "outputs": [
    {
     "data": {
      "text/plain": [
       "22"
      ]
     },
     "execution_count": 27,
     "metadata": {},
     "output_type": "execute_result"
    }
   ],
   "source": [
    "bacon = 22\n",
    "bacon + 1\n",
    "bacon"
   ]
  },
  {
   "cell_type": "code",
   "execution_count": null,
   "id": "d3033f1e",
   "metadata": {},
   "outputs": [],
   "source": [
    "7. What should the values of the following two terms be?\n",
    "'spam' + 'spamspam'\n",
    "'spam' * 3\n"
   ]
  },
  {
   "cell_type": "code",
   "execution_count": 31,
   "id": "3e9b1888",
   "metadata": {},
   "outputs": [
    {
     "data": {
      "text/plain": [
       "'spamspamspam'"
      ]
     },
     "execution_count": 31,
     "metadata": {},
     "output_type": "execute_result"
    }
   ],
   "source": [
    "'spam'+'spamspam'\n"
   ]
  },
  {
   "cell_type": "code",
   "execution_count": 32,
   "id": "7373483d",
   "metadata": {},
   "outputs": [
    {
     "data": {
      "text/plain": [
       "'spamspamspam'"
      ]
     },
     "execution_count": 32,
     "metadata": {},
     "output_type": "execute_result"
    }
   ],
   "source": [
    "'spam'*3"
   ]
  },
  {
   "cell_type": "markdown",
   "id": "cfb6b1a8",
   "metadata": {},
   "source": [
    "8. Why is eggs a valid variable name while 100 is invalid?\n",
    "we cannot assign values or objects to a integers or we cannot assign values to literals"
   ]
  },
  {
   "cell_type": "code",
   "execution_count": 33,
   "id": "f0481c15",
   "metadata": {},
   "outputs": [],
   "source": [
    "eggs = 87"
   ]
  },
  {
   "cell_type": "code",
   "execution_count": 36,
   "id": "b51fe37d",
   "metadata": {},
   "outputs": [
    {
     "ename": "SyntaxError",
     "evalue": "cannot assign to literal (1669929843.py, line 1)",
     "output_type": "error",
     "traceback": [
      "\u001b[1;36m  Input \u001b[1;32mIn [36]\u001b[1;36m\u001b[0m\n\u001b[1;33m    100 = 'afs'\u001b[0m\n\u001b[1;37m    ^\u001b[0m\n\u001b[1;31mSyntaxError\u001b[0m\u001b[1;31m:\u001b[0m cannot assign to literal\n"
     ]
    }
   ],
   "source": [
    "100 = 'afs'"
   ]
  },
  {
   "cell_type": "markdown",
   "id": "4e09d83a",
   "metadata": {},
   "source": [
    "9. What three functions can be used to get the integer, floating-point number, or string version of a value?\n",
    "we use type casting functions here"
   ]
  },
  {
   "cell_type": "code",
   "execution_count": 37,
   "id": "db3ea712",
   "metadata": {},
   "outputs": [
    {
     "data": {
      "text/plain": [
       "int"
      ]
     },
     "execution_count": 37,
     "metadata": {},
     "output_type": "execute_result"
    }
   ],
   "source": [
    "a = 67\n",
    "type(a)"
   ]
  },
  {
   "cell_type": "code",
   "execution_count": 39,
   "id": "871bd894",
   "metadata": {},
   "outputs": [],
   "source": [
    "b = str(a)"
   ]
  },
  {
   "cell_type": "code",
   "execution_count": 42,
   "id": "ecc05a0f",
   "metadata": {},
   "outputs": [
    {
     "data": {
      "text/plain": [
       "'67'"
      ]
     },
     "execution_count": 42,
     "metadata": {},
     "output_type": "execute_result"
    }
   ],
   "source": [
    "b"
   ]
  },
  {
   "cell_type": "code",
   "execution_count": 43,
   "id": "254763ca",
   "metadata": {},
   "outputs": [
    {
     "data": {
      "text/plain": [
       "str"
      ]
     },
     "execution_count": 43,
     "metadata": {},
     "output_type": "execute_result"
    }
   ],
   "source": [
    "type(b)"
   ]
  },
  {
   "cell_type": "code",
   "execution_count": 44,
   "id": "d2031bf7",
   "metadata": {},
   "outputs": [],
   "source": [
    "c= float(a)"
   ]
  },
  {
   "cell_type": "code",
   "execution_count": 45,
   "id": "2bab50f8",
   "metadata": {},
   "outputs": [
    {
     "data": {
      "text/plain": [
       "67.0"
      ]
     },
     "execution_count": 45,
     "metadata": {},
     "output_type": "execute_result"
    }
   ],
   "source": [
    "c"
   ]
  },
  {
   "cell_type": "code",
   "execution_count": 46,
   "id": "743b90e8",
   "metadata": {},
   "outputs": [
    {
     "data": {
      "text/plain": [
       "float"
      ]
     },
     "execution_count": 46,
     "metadata": {},
     "output_type": "execute_result"
    }
   ],
   "source": [
    "type(c)"
   ]
  },
  {
   "cell_type": "markdown",
   "id": "47dfba42",
   "metadata": {},
   "source": [
    "10. Why does this expression cause an error? How can you fix it?\n",
    "'I have eaten ' + 99 + ' burritos.'\n",
    "Ans: we cannot concatenate string to integer.\n",
    "To overcome this convert 99 to '99' or typecasting str(99)"
   ]
  },
  {
   "cell_type": "code",
   "execution_count": 51,
   "id": "f6c4d225",
   "metadata": {},
   "outputs": [
    {
     "data": {
      "text/plain": [
       "'I have eaten 99 burritos.'"
      ]
     },
     "execution_count": 51,
     "metadata": {},
     "output_type": "execute_result"
    }
   ],
   "source": [
    "'I have eaten ' + '99' + ' burritos.'"
   ]
  },
  {
   "cell_type": "code",
   "execution_count": 52,
   "id": "0b3c765b",
   "metadata": {},
   "outputs": [
    {
     "data": {
      "text/plain": [
       "'I have eaten 99 burritos.'"
      ]
     },
     "execution_count": 52,
     "metadata": {},
     "output_type": "execute_result"
    }
   ],
   "source": [
    "'I have eaten ' + str(99) + ' burritos.'"
   ]
  },
  {
   "cell_type": "code",
   "execution_count": null,
   "id": "8be68ae8",
   "metadata": {},
   "outputs": [],
   "source": []
  }
 ],
 "metadata": {
  "kernelspec": {
   "display_name": "Python 3 (ipykernel)",
   "language": "python",
   "name": "python3"
  },
  "language_info": {
   "codemirror_mode": {
    "name": "ipython",
    "version": 3
   },
   "file_extension": ".py",
   "mimetype": "text/x-python",
   "name": "python",
   "nbconvert_exporter": "python",
   "pygments_lexer": "ipython3",
   "version": "3.9.12"
  }
 },
 "nbformat": 4,
 "nbformat_minor": 5
}
